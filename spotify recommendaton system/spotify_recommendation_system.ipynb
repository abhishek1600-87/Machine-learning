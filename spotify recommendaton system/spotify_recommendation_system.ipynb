{
  "cells": [
    {
      "cell_type": "markdown",
      "metadata": {
        "id": "aef13de5"
      },
      "source": [
        "# Task\n",
        "Create an end-to-end song recommendation project using clustering based on the data in \"/content/top 100 streamed_songs.csv\". The project should include data loading, preprocessing, determining the optimal number of clusters, applying a clustering algorithm, analyzing the clusters, building a recommendation function, and testing the system."
      ]
    },
    {
      "cell_type": "markdown",
      "metadata": {
        "id": "d4175bc5"
      },
      "source": [
        "## Data loading\n",
        "\n",
        "### Subtask:\n",
        "Load the data from \"/content/top 100 streamed_songs.csv\" into a pandas DataFrame.\n"
      ]
    },
    {
      "cell_type": "markdown",
      "metadata": {
        "id": "86bdad24"
      },
      "source": [
        "**Reasoning**:\n",
        "Load the data into a pandas DataFrame and display the head and info to understand the data.\n",
        "\n"
      ]
    },
    {
      "cell_type": "code",
      "execution_count": 25,
      "metadata": {
        "colab": {
          "base_uri": "https://localhost:8080/",
          "height": 938
        },
        "id": "15a82f15",
        "outputId": "f6ac5fb2-7583-4ef2-eecb-bb897c871301"
      },
      "outputs": [
        {
          "data": {
            "text/html": [
              "<div>\n",
              "<style scoped>\n",
              "    .dataframe tbody tr th:only-of-type {\n",
              "        vertical-align: middle;\n",
              "    }\n",
              "\n",
              "    .dataframe tbody tr th {\n",
              "        vertical-align: top;\n",
              "    }\n",
              "\n",
              "    .dataframe thead th {\n",
              "        text-align: right;\n",
              "    }\n",
              "</style>\n",
              "<table border=\"1\" class=\"dataframe\">\n",
              "  <thead>\n",
              "    <tr style=\"text-align: right;\">\n",
              "      <th></th>\n",
              "      <th>id</th>\n",
              "      <th>name</th>\n",
              "      <th>duration</th>\n",
              "      <th>energy</th>\n",
              "      <th>key</th>\n",
              "      <th>loudness</th>\n",
              "      <th>mode</th>\n",
              "      <th>speechiness</th>\n",
              "      <th>acousticness</th>\n",
              "      <th>instrumentalness</th>\n",
              "      <th>liveness</th>\n",
              "      <th>valence</th>\n",
              "      <th>tempo</th>\n",
              "      <th>danceability</th>\n",
              "    </tr>\n",
              "  </thead>\n",
              "  <tbody>\n",
              "    <tr>\n",
              "      <th>0</th>\n",
              "      <td>4ZtFanR9U6ndgddUvNcjcG</td>\n",
              "      <td>Good 4 U Olivia Rodrigo</td>\n",
              "      <td>2.97</td>\n",
              "      <td>0.664</td>\n",
              "      <td>9</td>\n",
              "      <td>-5.044</td>\n",
              "      <td>1</td>\n",
              "      <td>0.1540</td>\n",
              "      <td>0.33500</td>\n",
              "      <td>0.000</td>\n",
              "      <td>0.0849</td>\n",
              "      <td>0.688</td>\n",
              "      <td>166.928</td>\n",
              "      <td>0.563</td>\n",
              "    </tr>\n",
              "    <tr>\n",
              "      <th>1</th>\n",
              "      <td>5fxyZf6m2xHeSrOzUfcJrq</td>\n",
              "      <td>Stay The Kid LAROI &amp; Justin Bieber</td>\n",
              "      <td>2.30</td>\n",
              "      <td>0.506</td>\n",
              "      <td>8</td>\n",
              "      <td>-11.275</td>\n",
              "      <td>1</td>\n",
              "      <td>0.0589</td>\n",
              "      <td>0.37900</td>\n",
              "      <td>0.868</td>\n",
              "      <td>0.1100</td>\n",
              "      <td>0.454</td>\n",
              "      <td>170.054</td>\n",
              "      <td>0.564</td>\n",
              "    </tr>\n",
              "    <tr>\n",
              "      <th>2</th>\n",
              "      <td>5nujrmhLynf4yMoMtj8AQF</td>\n",
              "      <td>Levitating Dua Lipa feat. DaBaby</td>\n",
              "      <td>3.38</td>\n",
              "      <td>0.825</td>\n",
              "      <td>6</td>\n",
              "      <td>-3.787</td>\n",
              "      <td>0</td>\n",
              "      <td>0.0601</td>\n",
              "      <td>0.00883</td>\n",
              "      <td>0.000</td>\n",
              "      <td>0.0674</td>\n",
              "      <td>0.915</td>\n",
              "      <td>102.977</td>\n",
              "      <td>0.702</td>\n",
              "    </tr>\n",
              "    <tr>\n",
              "      <th>3</th>\n",
              "      <td>4iJyoBOLtHqaGxP12qzhQI</td>\n",
              "      <td>Peaches Justin Bieber feat. Daniel Caesar &amp; Gi...</td>\n",
              "      <td>3.30</td>\n",
              "      <td>0.696</td>\n",
              "      <td>0</td>\n",
              "      <td>-6.181</td>\n",
              "      <td>1</td>\n",
              "      <td>0.1190</td>\n",
              "      <td>0.32100</td>\n",
              "      <td>0.000</td>\n",
              "      <td>0.4200</td>\n",
              "      <td>0.464</td>\n",
              "      <td>90.030</td>\n",
              "      <td>0.677</td>\n",
              "    </tr>\n",
              "    <tr>\n",
              "      <th>4</th>\n",
              "      <td>1SC5rEoYDGUK4NfG82494W</td>\n",
              "      <td>Montero (Call Me By Your Name) Lil Nas X</td>\n",
              "      <td>2.30</td>\n",
              "      <td>0.503</td>\n",
              "      <td>8</td>\n",
              "      <td>-6.725</td>\n",
              "      <td>0</td>\n",
              "      <td>0.2200</td>\n",
              "      <td>0.29300</td>\n",
              "      <td>0.000</td>\n",
              "      <td>0.4050</td>\n",
              "      <td>0.710</td>\n",
              "      <td>178.781</td>\n",
              "      <td>0.593</td>\n",
              "    </tr>\n",
              "  </tbody>\n",
              "</table>\n",
              "</div>"
            ],
            "text/plain": [
              "                       id                                               name  \\\n",
              "0  4ZtFanR9U6ndgddUvNcjcG                            Good 4 U Olivia Rodrigo   \n",
              "1  5fxyZf6m2xHeSrOzUfcJrq                 Stay The Kid LAROI & Justin Bieber   \n",
              "2  5nujrmhLynf4yMoMtj8AQF                   Levitating Dua Lipa feat. DaBaby   \n",
              "3  4iJyoBOLtHqaGxP12qzhQI  Peaches Justin Bieber feat. Daniel Caesar & Gi...   \n",
              "4  1SC5rEoYDGUK4NfG82494W           Montero (Call Me By Your Name) Lil Nas X   \n",
              "\n",
              "   duration  energy  key  loudness  mode  speechiness  acousticness  \\\n",
              "0      2.97   0.664    9    -5.044     1       0.1540       0.33500   \n",
              "1      2.30   0.506    8   -11.275     1       0.0589       0.37900   \n",
              "2      3.38   0.825    6    -3.787     0       0.0601       0.00883   \n",
              "3      3.30   0.696    0    -6.181     1       0.1190       0.32100   \n",
              "4      2.30   0.503    8    -6.725     0       0.2200       0.29300   \n",
              "\n",
              "   instrumentalness  liveness  valence    tempo  danceability  \n",
              "0             0.000    0.0849    0.688  166.928         0.563  \n",
              "1             0.868    0.1100    0.454  170.054         0.564  \n",
              "2             0.000    0.0674    0.915  102.977         0.702  \n",
              "3             0.000    0.4200    0.464   90.030         0.677  \n",
              "4             0.000    0.4050    0.710  178.781         0.593  "
            ]
          },
          "metadata": {},
          "output_type": "display_data"
        },
        {
          "name": "stdout",
          "output_type": "stream",
          "text": [
            "<class 'pandas.core.frame.DataFrame'>\n",
            "RangeIndex: 100 entries, 0 to 99\n",
            "Data columns (total 14 columns):\n",
            " #   Column            Non-Null Count  Dtype  \n",
            "---  ------            --------------  -----  \n",
            " 0   id                100 non-null    object \n",
            " 1   name              100 non-null    object \n",
            " 2   duration          100 non-null    float64\n",
            " 3   energy            100 non-null    float64\n",
            " 4   key               100 non-null    int64  \n",
            " 5   loudness          100 non-null    float64\n",
            " 6   mode              100 non-null    int64  \n",
            " 7   speechiness       100 non-null    float64\n",
            " 8   acousticness      100 non-null    float64\n",
            " 9   instrumentalness  100 non-null    float64\n",
            " 10  liveness          100 non-null    float64\n",
            " 11  valence           100 non-null    float64\n",
            " 12  tempo             100 non-null    float64\n",
            " 13  danceability      100 non-null    float64\n",
            "dtypes: float64(10), int64(2), object(2)\n",
            "memory usage: 11.1+ KB\n"
          ]
        },
        {
          "data": {
            "text/plain": [
              "None"
            ]
          },
          "metadata": {},
          "output_type": "display_data"
        }
      ],
      "source": [
        "import pandas as pd\n",
        "\n",
        "df = pd.read_csv(r'C:\\Users\\IICET 22\\Desktop\\abhishek\\project store\\spotify recommendaton system\\top 100 streamed_songs.csv')\n",
        "display(df.head())\n",
        "display(df.info())"
      ]
    },
    {
      "cell_type": "markdown",
      "metadata": {
        "id": "d4950f28"
      },
      "source": [
        "## Data preprocessing\n",
        "\n",
        "### Subtask:\n",
        "Prepare the data for clustering by handling missing values, encoding categorical features, and scaling numerical features. Select the relevant features for clustering.\n"
      ]
    },
    {
      "cell_type": "markdown",
      "metadata": {
        "id": "697cc66d"
      },
      "source": [
        "**Reasoning**:\n",
        "Select numerical features, scale them, and store the result in a new DataFrame as instructed.\n",
        "\n"
      ]
    },
    {
      "cell_type": "code",
      "execution_count": 26,
      "metadata": {
        "colab": {
          "base_uri": "https://localhost:8080/",
          "height": 206
        },
        "id": "23ce55d7",
        "outputId": "f88e4aec-5dee-4218-d4b7-b122a3fed261"
      },
      "outputs": [
        {
          "data": {
            "text/html": [
              "<div>\n",
              "<style scoped>\n",
              "    .dataframe tbody tr th:only-of-type {\n",
              "        vertical-align: middle;\n",
              "    }\n",
              "\n",
              "    .dataframe tbody tr th {\n",
              "        vertical-align: top;\n",
              "    }\n",
              "\n",
              "    .dataframe thead th {\n",
              "        text-align: right;\n",
              "    }\n",
              "</style>\n",
              "<table border=\"1\" class=\"dataframe\">\n",
              "  <thead>\n",
              "    <tr style=\"text-align: right;\">\n",
              "      <th></th>\n",
              "      <th>duration</th>\n",
              "      <th>energy</th>\n",
              "      <th>key</th>\n",
              "      <th>loudness</th>\n",
              "      <th>mode</th>\n",
              "      <th>speechiness</th>\n",
              "      <th>acousticness</th>\n",
              "      <th>instrumentalness</th>\n",
              "      <th>liveness</th>\n",
              "      <th>valence</th>\n",
              "      <th>tempo</th>\n",
              "      <th>danceability</th>\n",
              "    </tr>\n",
              "  </thead>\n",
              "  <tbody>\n",
              "    <tr>\n",
              "      <th>0</th>\n",
              "      <td>-0.471500</td>\n",
              "      <td>0.456013</td>\n",
              "      <td>1.037768</td>\n",
              "      <td>0.629600</td>\n",
              "      <td>0.886405</td>\n",
              "      <td>1.159703</td>\n",
              "      <td>0.073163</td>\n",
              "      <td>-0.320070</td>\n",
              "      <td>-0.685478</td>\n",
              "      <td>0.722094</td>\n",
              "      <td>1.564684</td>\n",
              "      <td>-0.672180</td>\n",
              "    </tr>\n",
              "    <tr>\n",
              "      <th>1</th>\n",
              "      <td>-1.197885</td>\n",
              "      <td>-0.487669</td>\n",
              "      <td>0.775042</td>\n",
              "      <td>-1.929258</td>\n",
              "      <td>0.886405</td>\n",
              "      <td>-0.244539</td>\n",
              "      <td>0.230493</td>\n",
              "      <td>3.610481</td>\n",
              "      <td>-0.461556</td>\n",
              "      <td>-0.268084</td>\n",
              "      <td>1.672467</td>\n",
              "      <td>-0.664262</td>\n",
              "    </tr>\n",
              "    <tr>\n",
              "      <th>2</th>\n",
              "      <td>-0.026996</td>\n",
              "      <td>1.417613</td>\n",
              "      <td>0.249590</td>\n",
              "      <td>1.145807</td>\n",
              "      <td>-1.128152</td>\n",
              "      <td>-0.226820</td>\n",
              "      <td>-1.093115</td>\n",
              "      <td>-0.320070</td>\n",
              "      <td>-0.841598</td>\n",
              "      <td>1.682651</td>\n",
              "      <td>-0.640333</td>\n",
              "      <td>0.428326</td>\n",
              "    </tr>\n",
              "    <tr>\n",
              "      <th>3</th>\n",
              "      <td>-0.113728</td>\n",
              "      <td>0.647139</td>\n",
              "      <td>-1.326767</td>\n",
              "      <td>0.162673</td>\n",
              "      <td>0.886405</td>\n",
              "      <td>0.642894</td>\n",
              "      <td>0.023104</td>\n",
              "      <td>-0.320070</td>\n",
              "      <td>2.304014</td>\n",
              "      <td>-0.225769</td>\n",
              "      <td>-1.086743</td>\n",
              "      <td>0.230394</td>\n",
              "    </tr>\n",
              "    <tr>\n",
              "      <th>4</th>\n",
              "      <td>-1.197885</td>\n",
              "      <td>-0.505587</td>\n",
              "      <td>0.775042</td>\n",
              "      <td>-0.060729</td>\n",
              "      <td>-1.128152</td>\n",
              "      <td>2.134255</td>\n",
              "      <td>-0.077015</td>\n",
              "      <td>-0.320070</td>\n",
              "      <td>2.170196</td>\n",
              "      <td>0.815187</td>\n",
              "      <td>1.973372</td>\n",
              "      <td>-0.434660</td>\n",
              "    </tr>\n",
              "  </tbody>\n",
              "</table>\n",
              "</div>"
            ],
            "text/plain": [
              "   duration    energy       key  loudness      mode  speechiness  \\\n",
              "0 -0.471500  0.456013  1.037768  0.629600  0.886405     1.159703   \n",
              "1 -1.197885 -0.487669  0.775042 -1.929258  0.886405    -0.244539   \n",
              "2 -0.026996  1.417613  0.249590  1.145807 -1.128152    -0.226820   \n",
              "3 -0.113728  0.647139 -1.326767  0.162673  0.886405     0.642894   \n",
              "4 -1.197885 -0.505587  0.775042 -0.060729 -1.128152     2.134255   \n",
              "\n",
              "   acousticness  instrumentalness  liveness   valence     tempo  danceability  \n",
              "0      0.073163         -0.320070 -0.685478  0.722094  1.564684     -0.672180  \n",
              "1      0.230493          3.610481 -0.461556 -0.268084  1.672467     -0.664262  \n",
              "2     -1.093115         -0.320070 -0.841598  1.682651 -0.640333      0.428326  \n",
              "3      0.023104         -0.320070  2.304014 -0.225769 -1.086743      0.230394  \n",
              "4     -0.077015         -0.320070  2.170196  0.815187  1.973372     -0.434660  "
            ]
          },
          "metadata": {},
          "output_type": "display_data"
        }
      ],
      "source": [
        "from sklearn.preprocessing import StandardScaler\n",
        "\n",
        "features_for_clustering = df.drop(columns=['id', 'name'])\n",
        "numerical_features = features_for_clustering.select_dtypes(include=['float64', 'int64'])\n",
        "\n",
        "scaler = StandardScaler()\n",
        "scaled_numerical_features = scaler.fit_transform(numerical_features)\n",
        "\n",
        "scaled_df = pd.DataFrame(scaled_numerical_features, columns=numerical_features.columns)\n",
        "display(scaled_df.head())"
      ]
    },
    {
      "cell_type": "markdown",
      "metadata": {
        "id": "91b27fd4"
      },
      "source": [
        "**Reasoning**:\n",
        "The previous attempt failed because 'id' and 'name' were not found in the numerical features dataframe. I need to select all columns except 'id' and 'name' from the original dataframe first, then select the numerical columns from this subset, and then scale the selected numerical features.\n",
        "\n"
      ]
    },
    {
      "cell_type": "code",
      "execution_count": 27,
      "metadata": {
        "colab": {
          "base_uri": "https://localhost:8080/",
          "height": 206
        },
        "id": "_KIg91iN1TUG",
        "outputId": "88bee232-d917-4ab6-f1c0-c7f0525de040"
      },
      "outputs": [
        {
          "data": {
            "text/html": [
              "<div>\n",
              "<style scoped>\n",
              "    .dataframe tbody tr th:only-of-type {\n",
              "        vertical-align: middle;\n",
              "    }\n",
              "\n",
              "    .dataframe tbody tr th {\n",
              "        vertical-align: top;\n",
              "    }\n",
              "\n",
              "    .dataframe thead th {\n",
              "        text-align: right;\n",
              "    }\n",
              "</style>\n",
              "<table border=\"1\" class=\"dataframe\">\n",
              "  <thead>\n",
              "    <tr style=\"text-align: right;\">\n",
              "      <th></th>\n",
              "      <th>duration</th>\n",
              "      <th>energy</th>\n",
              "      <th>key</th>\n",
              "      <th>loudness</th>\n",
              "      <th>mode</th>\n",
              "      <th>speechiness</th>\n",
              "      <th>acousticness</th>\n",
              "      <th>instrumentalness</th>\n",
              "      <th>liveness</th>\n",
              "      <th>valence</th>\n",
              "      <th>tempo</th>\n",
              "      <th>danceability</th>\n",
              "    </tr>\n",
              "  </thead>\n",
              "  <tbody>\n",
              "    <tr>\n",
              "      <th>0</th>\n",
              "      <td>-0.471500</td>\n",
              "      <td>0.456013</td>\n",
              "      <td>1.037768</td>\n",
              "      <td>0.629600</td>\n",
              "      <td>0.886405</td>\n",
              "      <td>1.159703</td>\n",
              "      <td>0.073163</td>\n",
              "      <td>-0.320070</td>\n",
              "      <td>-0.685478</td>\n",
              "      <td>0.722094</td>\n",
              "      <td>1.564684</td>\n",
              "      <td>-0.672180</td>\n",
              "    </tr>\n",
              "    <tr>\n",
              "      <th>1</th>\n",
              "      <td>-1.197885</td>\n",
              "      <td>-0.487669</td>\n",
              "      <td>0.775042</td>\n",
              "      <td>-1.929258</td>\n",
              "      <td>0.886405</td>\n",
              "      <td>-0.244539</td>\n",
              "      <td>0.230493</td>\n",
              "      <td>3.610481</td>\n",
              "      <td>-0.461556</td>\n",
              "      <td>-0.268084</td>\n",
              "      <td>1.672467</td>\n",
              "      <td>-0.664262</td>\n",
              "    </tr>\n",
              "    <tr>\n",
              "      <th>2</th>\n",
              "      <td>-0.026996</td>\n",
              "      <td>1.417613</td>\n",
              "      <td>0.249590</td>\n",
              "      <td>1.145807</td>\n",
              "      <td>-1.128152</td>\n",
              "      <td>-0.226820</td>\n",
              "      <td>-1.093115</td>\n",
              "      <td>-0.320070</td>\n",
              "      <td>-0.841598</td>\n",
              "      <td>1.682651</td>\n",
              "      <td>-0.640333</td>\n",
              "      <td>0.428326</td>\n",
              "    </tr>\n",
              "    <tr>\n",
              "      <th>3</th>\n",
              "      <td>-0.113728</td>\n",
              "      <td>0.647139</td>\n",
              "      <td>-1.326767</td>\n",
              "      <td>0.162673</td>\n",
              "      <td>0.886405</td>\n",
              "      <td>0.642894</td>\n",
              "      <td>0.023104</td>\n",
              "      <td>-0.320070</td>\n",
              "      <td>2.304014</td>\n",
              "      <td>-0.225769</td>\n",
              "      <td>-1.086743</td>\n",
              "      <td>0.230394</td>\n",
              "    </tr>\n",
              "    <tr>\n",
              "      <th>4</th>\n",
              "      <td>-1.197885</td>\n",
              "      <td>-0.505587</td>\n",
              "      <td>0.775042</td>\n",
              "      <td>-0.060729</td>\n",
              "      <td>-1.128152</td>\n",
              "      <td>2.134255</td>\n",
              "      <td>-0.077015</td>\n",
              "      <td>-0.320070</td>\n",
              "      <td>2.170196</td>\n",
              "      <td>0.815187</td>\n",
              "      <td>1.973372</td>\n",
              "      <td>-0.434660</td>\n",
              "    </tr>\n",
              "  </tbody>\n",
              "</table>\n",
              "</div>"
            ],
            "text/plain": [
              "   duration    energy       key  loudness      mode  speechiness  \\\n",
              "0 -0.471500  0.456013  1.037768  0.629600  0.886405     1.159703   \n",
              "1 -1.197885 -0.487669  0.775042 -1.929258  0.886405    -0.244539   \n",
              "2 -0.026996  1.417613  0.249590  1.145807 -1.128152    -0.226820   \n",
              "3 -0.113728  0.647139 -1.326767  0.162673  0.886405     0.642894   \n",
              "4 -1.197885 -0.505587  0.775042 -0.060729 -1.128152     2.134255   \n",
              "\n",
              "   acousticness  instrumentalness  liveness   valence     tempo  danceability  \n",
              "0      0.073163         -0.320070 -0.685478  0.722094  1.564684     -0.672180  \n",
              "1      0.230493          3.610481 -0.461556 -0.268084  1.672467     -0.664262  \n",
              "2     -1.093115         -0.320070 -0.841598  1.682651 -0.640333      0.428326  \n",
              "3      0.023104         -0.320070  2.304014 -0.225769 -1.086743      0.230394  \n",
              "4     -0.077015         -0.320070  2.170196  0.815187  1.973372     -0.434660  "
            ]
          },
          "metadata": {},
          "output_type": "display_data"
        }
      ],
      "source": [
        "from sklearn.preprocessing import StandardScaler\n",
        "\n",
        "features_for_clustering = df.drop(columns=['id', 'name'])\n",
        "numerical_features = features_for_clustering.select_dtypes(include=['float64', 'int64'])\n",
        "\n",
        "scaler = StandardScaler()\n",
        "scaled_numerical_features = scaler.fit_transform(numerical_features)\n",
        "\n",
        "scaled_df = pd.DataFrame(scaled_numerical_features, columns=numerical_features.columns)\n",
        "display(scaled_df.head())"
      ]
    },
    {
      "cell_type": "markdown",
      "metadata": {
        "id": "bf2d44ec"
      },
      "source": [
        "## Determine optimal number of clusters\n",
        "\n",
        "### Subtask:\n",
        "Use methods like the Elbow method or Silhouette score to find the optimal number of clusters for the data.\n"
      ]
    },
    {
      "cell_type": "markdown",
      "metadata": {
        "id": "aed18a76"
      },
      "source": [
        "**Reasoning**:\n",
        "Import the necessary libraries for calculating the Silhouette score and plotting, then iterate through a range of possible cluster numbers, fit K-Means, calculate the Silhouette score, store the scores, and finally plot the results to identify the optimal number of clusters.\n",
        "\n"
      ]
    },
    {
      "cell_type": "code",
      "execution_count": 28,
      "metadata": {
        "colab": {
          "base_uri": "https://localhost:8080/",
          "height": 581
        },
        "id": "336d9df6",
        "outputId": "41a4327d-5126-4fbb-f22f-c9784c7c0a39"
      },
      "outputs": [
        {
          "data": {
            "image/png": "[encoded data removed]",
            "text/plain": [
              "<Figure size 1000x600 with 1 Axes>"
            ]
          },
          "metadata": {},
          "output_type": "display_data"
        },
        {
          "name": "stdout",
          "output_type": "stream",
          "text": [
            "The optimal number of clusters based on the Silhouette score is: 2\n"
          ]
        }
      ],
      "source": [
        "from sklearn.cluster import KMeans\n",
        "from sklearn.metrics import silhouette_score\n",
        "import matplotlib.pyplot as plt\n",
        "\n",
        "silhouette_scores = []\n",
        "range_n_clusters = range(2, 11)\n",
        "\n",
        "for n_clusters in range_n_clusters:\n",
        "    kmeans = KMeans(n_clusters=n_clusters, random_state=42, n_init=10)\n",
        "    kmeans.fit(scaled_df)\n",
        "    score = silhouette_score(scaled_df, kmeans.labels_)\n",
        "    silhouette_scores.append(score)\n",
        "\n",
        "plt.figure(figsize=(10, 6))\n",
        "plt.plot(range_n_clusters, silhouette_scores, marker='o')\n",
        "plt.xlabel(\"Number of Clusters\")\n",
        "plt.ylabel(\"Silhouette Score\")\n",
        "plt.title(\"Silhouette Scores for Different Numbers of Clusters\")\n",
        "plt.xticks(range_n_clusters)\n",
        "plt.grid(True)\n",
        "plt.show()\n",
        "\n",
        "optimal_n_clusters = range_n_clusters[silhouette_scores.index(max(silhouette_scores))]\n",
        "print(f\"The optimal number of clusters based on the Silhouette score is: {optimal_n_clusters}\")"
      ]
    },
    {
      "cell_type": "markdown",
      "metadata": {
        "id": "4b51534c"
      },
      "source": [
        "## Apply clustering algorithm\n",
        "\n",
        "### Subtask:\n",
        "Apply a clustering algorithm (e.g., K-Means) to the preprocessed data using the optimal number of clusters.\n"
      ]
    },
    {
      "cell_type": "markdown",
      "metadata": {
        "id": "07624856"
      },
      "source": [
        "**Reasoning**:\n",
        "Apply the KMeans clustering algorithm to the scaled data using the optimal number of clusters and add the cluster labels to the original dataframe.\n",
        "\n"
      ]
    },
    {
      "cell_type": "code",
      "execution_count": 29,
      "metadata": {
        "colab": {
          "base_uri": "https://localhost:8080/",
          "height": 556
        },
        "id": "bf6be891",
        "outputId": "ca2f33d1-17ff-43b0-f454-531bf82be3a7"
      },
      "outputs": [
        {
          "data": {
            "text/html": [
              "<div>\n",
              "<style scoped>\n",
              "    .dataframe tbody tr th:only-of-type {\n",
              "        vertical-align: middle;\n",
              "    }\n",
              "\n",
              "    .dataframe tbody tr th {\n",
              "        vertical-align: top;\n",
              "    }\n",
              "\n",
              "    .dataframe thead th {\n",
              "        text-align: right;\n",
              "    }\n",
              "</style>\n",
              "<table border=\"1\" class=\"dataframe\">\n",
              "  <thead>\n",
              "    <tr style=\"text-align: right;\">\n",
              "      <th></th>\n",
              "      <th>id</th>\n",
              "      <th>name</th>\n",
              "      <th>duration</th>\n",
              "      <th>energy</th>\n",
              "      <th>key</th>\n",
              "      <th>loudness</th>\n",
              "      <th>mode</th>\n",
              "      <th>speechiness</th>\n",
              "      <th>acousticness</th>\n",
              "      <th>instrumentalness</th>\n",
              "      <th>liveness</th>\n",
              "      <th>valence</th>\n",
              "      <th>tempo</th>\n",
              "      <th>danceability</th>\n",
              "      <th>cluster_label</th>\n",
              "    </tr>\n",
              "  </thead>\n",
              "  <tbody>\n",
              "    <tr>\n",
              "      <th>0</th>\n",
              "      <td>4ZtFanR9U6ndgddUvNcjcG</td>\n",
              "      <td>Good 4 U Olivia Rodrigo</td>\n",
              "      <td>2.97</td>\n",
              "      <td>0.664</td>\n",
              "      <td>9</td>\n",
              "      <td>-5.044</td>\n",
              "      <td>1</td>\n",
              "      <td>0.1540</td>\n",
              "      <td>0.33500</td>\n",
              "      <td>0.000</td>\n",
              "      <td>0.0849</td>\n",
              "      <td>0.688</td>\n",
              "      <td>166.928</td>\n",
              "      <td>0.563</td>\n",
              "      <td>0</td>\n",
              "    </tr>\n",
              "    <tr>\n",
              "      <th>1</th>\n",
              "      <td>5fxyZf6m2xHeSrOzUfcJrq</td>\n",
              "      <td>Stay The Kid LAROI &amp; Justin Bieber</td>\n",
              "      <td>2.30</td>\n",
              "      <td>0.506</td>\n",
              "      <td>8</td>\n",
              "      <td>-11.275</td>\n",
              "      <td>1</td>\n",
              "      <td>0.0589</td>\n",
              "      <td>0.37900</td>\n",
              "      <td>0.868</td>\n",
              "      <td>0.1100</td>\n",
              "      <td>0.454</td>\n",
              "      <td>170.054</td>\n",
              "      <td>0.564</td>\n",
              "      <td>1</td>\n",
              "    </tr>\n",
              "    <tr>\n",
              "      <th>2</th>\n",
              "      <td>5nujrmhLynf4yMoMtj8AQF</td>\n",
              "      <td>Levitating Dua Lipa feat. DaBaby</td>\n",
              "      <td>3.38</td>\n",
              "      <td>0.825</td>\n",
              "      <td>6</td>\n",
              "      <td>-3.787</td>\n",
              "      <td>0</td>\n",
              "      <td>0.0601</td>\n",
              "      <td>0.00883</td>\n",
              "      <td>0.000</td>\n",
              "      <td>0.0674</td>\n",
              "      <td>0.915</td>\n",
              "      <td>102.977</td>\n",
              "      <td>0.702</td>\n",
              "      <td>0</td>\n",
              "    </tr>\n",
              "    <tr>\n",
              "      <th>3</th>\n",
              "      <td>4iJyoBOLtHqaGxP12qzhQI</td>\n",
              "      <td>Peaches Justin Bieber feat. Daniel Caesar &amp; Gi...</td>\n",
              "      <td>3.30</td>\n",
              "      <td>0.696</td>\n",
              "      <td>0</td>\n",
              "      <td>-6.181</td>\n",
              "      <td>1</td>\n",
              "      <td>0.1190</td>\n",
              "      <td>0.32100</td>\n",
              "      <td>0.000</td>\n",
              "      <td>0.4200</td>\n",
              "      <td>0.464</td>\n",
              "      <td>90.030</td>\n",
              "      <td>0.677</td>\n",
              "      <td>0</td>\n",
              "    </tr>\n",
              "    <tr>\n",
              "      <th>4</th>\n",
              "      <td>1SC5rEoYDGUK4NfG82494W</td>\n",
              "      <td>Montero (Call Me By Your Name) Lil Nas X</td>\n",
              "      <td>2.30</td>\n",
              "      <td>0.503</td>\n",
              "      <td>8</td>\n",
              "      <td>-6.725</td>\n",
              "      <td>0</td>\n",
              "      <td>0.2200</td>\n",
              "      <td>0.29300</td>\n",
              "      <td>0.000</td>\n",
              "      <td>0.4050</td>\n",
              "      <td>0.710</td>\n",
              "      <td>178.781</td>\n",
              "      <td>0.593</td>\n",
              "      <td>0</td>\n",
              "    </tr>\n",
              "  </tbody>\n",
              "</table>\n",
              "</div>"
            ],
            "text/plain": [
              "                       id                                               name  \\\n",
              "0  4ZtFanR9U6ndgddUvNcjcG                            Good 4 U Olivia Rodrigo   \n",
              "1  5fxyZf6m2xHeSrOzUfcJrq                 Stay The Kid LAROI & Justin Bieber   \n",
              "2  5nujrmhLynf4yMoMtj8AQF                   Levitating Dua Lipa feat. DaBaby   \n",
              "3  4iJyoBOLtHqaGxP12qzhQI  Peaches Justin Bieber feat. Daniel Caesar & Gi...   \n",
              "4  1SC5rEoYDGUK4NfG82494W           Montero (Call Me By Your Name) Lil Nas X   \n",
              "\n",
              "   duration  energy  key  loudness  mode  speechiness  acousticness  \\\n",
              "0      2.97   0.664    9    -5.044     1       0.1540       0.33500   \n",
              "1      2.30   0.506    8   -11.275     1       0.0589       0.37900   \n",
              "2      3.38   0.825    6    -3.787     0       0.0601       0.00883   \n",
              "3      3.30   0.696    0    -6.181     1       0.1190       0.32100   \n",
              "4      2.30   0.503    8    -6.725     0       0.2200       0.29300   \n",
              "\n",
              "   instrumentalness  liveness  valence    tempo  danceability  cluster_label  \n",
              "0             0.000    0.0849    0.688  166.928         0.563              0  \n",
              "1             0.868    0.1100    0.454  170.054         0.564              1  \n",
              "2             0.000    0.0674    0.915  102.977         0.702              0  \n",
              "3             0.000    0.4200    0.464   90.030         0.677              0  \n",
              "4             0.000    0.4050    0.710  178.781         0.593              0  "
            ]
          },
          "metadata": {},
          "output_type": "display_data"
        }
      ],
      "source": [
        "kmeans = KMeans(n_clusters=optimal_n_clusters, random_state=42, n_init=10)\n",
        "cluster_labels = kmeans.fit_predict(scaled_df)\n",
        "df['cluster_label'] = cluster_labels\n",
        "display(df.head())"
      ]
    },
    {
      "cell_type": "markdown",
      "metadata": {
        "id": "85edfb06"
      },
      "source": [
        "## Analyze clusters\n",
        "\n",
        "### Subtask:\n",
        "Analyze the characteristics of each cluster to understand the types of songs that belong to them.\n"
      ]
    },
    {
      "cell_type": "markdown",
      "metadata": {
        "id": "df682ffe"
      },
      "source": [
        "**Reasoning**:\n",
        "Analyze the characteristics of each cluster by grouping the original DataFrame by 'cluster_label' and calculating the mean of the numerical features used for clustering.\n",
        "\n"
      ]
    },
    {
      "cell_type": "code",
      "execution_count": 30,
      "metadata": {
        "colab": {
          "base_uri": "https://localhost:8080/",
          "height": 681
        },
        "id": "a84accca",
        "outputId": "dafdf4bf-a05b-4eef-9e9f-d87cdf8a4438"
      },
      "outputs": [
        {
          "data": {
            "text/html": [
              "<div>\n",
              "<style scoped>\n",
              "    .dataframe tbody tr th:only-of-type {\n",
              "        vertical-align: middle;\n",
              "    }\n",
              "\n",
              "    .dataframe tbody tr th {\n",
              "        vertical-align: top;\n",
              "    }\n",
              "\n",
              "    .dataframe thead th {\n",
              "        text-align: right;\n",
              "    }\n",
              "</style>\n",
              "<table border=\"1\" class=\"dataframe\">\n",
              "  <thead>\n",
              "    <tr style=\"text-align: right;\">\n",
              "      <th></th>\n",
              "      <th>duration</th>\n",
              "      <th>energy</th>\n",
              "      <th>key</th>\n",
              "      <th>loudness</th>\n",
              "      <th>mode</th>\n",
              "      <th>speechiness</th>\n",
              "      <th>acousticness</th>\n",
              "      <th>instrumentalness</th>\n",
              "      <th>liveness</th>\n",
              "      <th>valence</th>\n",
              "      <th>tempo</th>\n",
              "      <th>danceability</th>\n",
              "    </tr>\n",
              "    <tr>\n",
              "      <th>cluster_label</th>\n",
              "      <th></th>\n",
              "      <th></th>\n",
              "      <th></th>\n",
              "      <th></th>\n",
              "      <th></th>\n",
              "      <th></th>\n",
              "      <th></th>\n",
              "      <th></th>\n",
              "      <th></th>\n",
              "      <th></th>\n",
              "      <th></th>\n",
              "      <th></th>\n",
              "    </tr>\n",
              "  </thead>\n",
              "  <tbody>\n",
              "    <tr>\n",
              "      <th>0</th>\n",
              "      <td>3.346197</td>\n",
              "      <td>0.663366</td>\n",
              "      <td>5.183099</td>\n",
              "      <td>-5.808901</td>\n",
              "      <td>0.492958</td>\n",
              "      <td>0.087683</td>\n",
              "      <td>0.193923</td>\n",
              "      <td>0.006367</td>\n",
              "      <td>0.158431</td>\n",
              "      <td>0.584775</td>\n",
              "      <td>124.342634</td>\n",
              "      <td>0.689183</td>\n",
              "    </tr>\n",
              "    <tr>\n",
              "      <th>1</th>\n",
              "      <td>3.548621</td>\n",
              "      <td>0.402276</td>\n",
              "      <td>4.724138</td>\n",
              "      <td>-8.457931</td>\n",
              "      <td>0.724138</td>\n",
              "      <td>0.045538</td>\n",
              "      <td>0.609839</td>\n",
              "      <td>0.228143</td>\n",
              "      <td>0.169831</td>\n",
              "      <td>0.352290</td>\n",
              "      <td>114.706862</td>\n",
              "      <td>0.546828</td>\n",
              "    </tr>\n",
              "  </tbody>\n",
              "</table>\n",
              "</div>"
            ],
            "text/plain": [
              "               duration    energy       key  loudness      mode  speechiness  \\\n",
              "cluster_label                                                                  \n",
              "0              3.346197  0.663366  5.183099 -5.808901  0.492958     0.087683   \n",
              "1              3.548621  0.402276  4.724138 -8.457931  0.724138     0.045538   \n",
              "\n",
              "               acousticness  instrumentalness  liveness   valence       tempo  \\\n",
              "cluster_label                                                                   \n",
              "0                  0.193923          0.006367  0.158431  0.584775  124.342634   \n",
              "1                  0.609839          0.228143  0.169831  0.352290  114.706862   \n",
              "\n",
              "               danceability  \n",
              "cluster_label                \n",
              "0                  0.689183  \n",
              "1                  0.546828  "
            ]
          },
          "metadata": {},
          "output_type": "display_data"
        },
        {
          "name": "stdout",
          "output_type": "stream",
          "text": [
            "\n",
            "Songs in Cluster 0:\n"
          ]
        },
        {
          "data": {
            "text/plain": [
              "0                              Good 4 U Olivia Rodrigo\n",
              "2                     Levitating Dua Lipa feat. DaBaby\n",
              "3    Peaches Justin Bieber feat. Daniel Caesar & Gi...\n",
              "4             Montero (Call Me By Your Name) Lil Nas X\n",
              "5                    Kiss Me More (feat. SZA) Doja Cat\n",
              "Name: name, dtype: object"
            ]
          },
          "metadata": {},
          "output_type": "display_data"
        },
        {
          "name": "stdout",
          "output_type": "stream",
          "text": [
            "\n",
            "Songs in Cluster 1:\n"
          ]
        },
        {
          "data": {
            "text/plain": [
              "1                    Stay The Kid LAROI & Justin Bieber\n",
              "7                        drivers license Olivia Rodrigo\n",
              "9                                Deja Vu Olivia Rodrigo\n",
              "14                        Heartbreak Anniversary Giveon\n",
              "16    Without You (with Miley Cyrus) The Kid LAROI &...\n",
              "Name: name, dtype: object"
            ]
          },
          "metadata": {},
          "output_type": "display_data"
        }
      ],
      "source": [
        "numerical_features_columns = scaled_df.columns\n",
        "cluster_analysis = df.groupby('cluster_label')[numerical_features_columns].mean()\n",
        "display(cluster_analysis)\n",
        "\n",
        "for cluster_id in df['cluster_label'].unique():\n",
        "    print(f\"\\nSongs in Cluster {cluster_id}:\")\n",
        "    display(df[df['cluster_label'] == cluster_id]['name'].head())"
      ]
    },
    {
      "cell_type": "markdown",
      "metadata": {
        "id": "c92a189e"
      },
      "source": [
        "## Build recommendation function\n",
        "\n",
        "### Subtask:\n",
        "Create a function that takes a song as input and recommends similar songs based on its cluster membership.\n"
      ]
    },
    {
      "cell_type": "markdown",
      "metadata": {
        "id": "c1ad5b9d"
      },
      "source": [
        "**Reasoning**:\n",
        "Define the recommendation function as instructed, including finding the song's cluster, filtering the DataFrame, excluding the input song, and randomly selecting recommendations.\n",
        "\n"
      ]
    },
    {
      "cell_type": "code",
      "execution_count": 31,
      "metadata": {
        "colab": {
          "base_uri": "https://localhost:8080/"
        },
        "id": "80c60a9c",
        "outputId": "575cc0fa-c9c1-4212-aae3-833ee7bf325c"
      },
      "outputs": [
        {
          "name": "stdout",
          "output_type": "stream",
          "text": [
            "Recommendations for 'Good 4 U Olivia Rodrigo':\n",
            "['Blinding Lights - 2019 The Weeknd', 'Levitating Dua Lipa feat. DaBaby', 'Hold On Justin Bieber', 'Leave The Door Open Silk Sonic (Bruno Mars & Anderson .Paak)', 'Golden Harry Styles']\n"
          ]
        }
      ],
      "source": [
        "import numpy as np\n",
        "\n",
        "def recommend_songs(df, song_name, num_recommendations=5):\n",
        "    \"\"\"\n",
        "    Recommends similar songs based on the cluster membership of an input song.\n",
        "\n",
        "    Args:\n",
        "        df: DataFrame containing song data with 'cluster_label' and 'name' columns.\n",
        "        song_name: The name of the input song (string).\n",
        "        num_recommendations: The number of songs to recommend (integer).\n",
        "\n",
        "    Returns:\n",
        "        A list or pandas Series containing the names of the recommended songs.\n",
        "    \"\"\"\n",
        "    song_cluster = df[df['name'] == song_name]['cluster_label'].iloc[0]\n",
        "    similar_songs = df[df['cluster_label'] == song_cluster]\n",
        "    recommended_songs = similar_songs[similar_songs['name'] != song_name]['name'].sample(\n",
        "        n=min(num_recommendations, len(similar_songs) - 1), random_state=42\n",
        "    )\n",
        "    return recommended_songs.tolist()\n",
        "\n",
        "# Test the recommendation function\n",
        "example_song = df['name'].iloc[0]\n",
        "recommendations = recommend_songs(df, example_song)\n",
        "print(f\"Recommendations for '{example_song}':\")\n",
        "print(recommendations)"
      ]
    },
    {
      "cell_type": "markdown",
      "metadata": {
        "id": "11f59dc1"
      },
      "source": [
        "## Test recommendation system\n",
        "\n",
        "### Subtask:\n",
        "Test the recommendation system with a few example songs.\n"
      ]
    },
    {
      "cell_type": "markdown",
      "metadata": {
        "id": "9016c8e0"
      },
      "source": [
        "**Reasoning**:\n",
        "Test the recommendation system with two different example songs and print the recommendations.\n",
        "\n"
      ]
    },
    {
      "cell_type": "code",
      "execution_count": 32,
      "metadata": {
        "colab": {
          "base_uri": "https://localhost:8080/"
        },
        "id": "e0eefd78",
        "outputId": "b580d966-b25a-45d4-ae69-3a57bfc3fad8"
      },
      "outputs": [
        {
          "name": "stdout",
          "output_type": "stream",
          "text": [
            "Recommendations for 'Good 4 U Olivia Rodrigo':\n",
            "['Blinding Lights - 2019 The Weeknd', 'Levitating Dua Lipa feat. DaBaby', 'Hold On Justin Bieber', 'Leave The Door Open Silk Sonic (Bruno Mars & Anderson .Paak)', 'Golden Harry Styles']\n",
            "------------------------------\n",
            "Recommendations for 'Stay The Kid LAROI & Justin Bieber':\n",
            "['Talking to the Moon Bruno Mars', \"Don't Stop Believin' Journey\", 'Falling Harry Styles', 'Memories Maroon 5', 'drivers license Olivia Rodrigo']\n"
          ]
        }
      ],
      "source": [
        "song1 = \"Good 4 U Olivia Rodrigo\"\n",
        "song2 = \"Stay The Kid LAROI & Justin Bieber\"\n",
        "\n",
        "recommendations1 = recommend_songs(df, song1, num_recommendations=5)\n",
        "print(f\"Recommendations for '{song1}':\")\n",
        "print(recommendations1)\n",
        "\n",
        "print(\"-\" * 30)\n",
        "\n",
        "recommendations2 = recommend_songs(df, song2, num_recommendations=5)\n",
        "print(f\"Recommendations for '{song2}':\")\n",
        "print(recommendations2)"
      ]
    },
    {
      "cell_type": "markdown",
      "metadata": {
        "id": "34c4e582"
      },
      "source": [
        "## Summary:\n",
        "\n",
        "### Data Analysis Key Findings\n",
        "\n",
        "*   The dataset contains 100 top streamed songs with various audio features.\n",
        "*   Two distinct clusters were identified as optimal based on the Silhouette score analysis.\n",
        "*   Cluster 0 tends to contain songs with higher energy, loudness, valence, tempo, and danceability, suggesting more upbeat and potentially mainstream tracks.\n",
        "*   Cluster 1 generally contains songs with lower values for these features and higher acousticness and instrumentalness, indicating potentially more acoustic, instrumental, or less danceable tracks.\n",
        "*   A recommendation function was successfully built to recommend songs within the same cluster as a given input song.\n",
        "*   Testing the recommendation system with example songs demonstrated that it provides recommendations from the same cluster, aligning with the observed characteristics of each cluster.\n",
        "\n",
        "### Insights or Next Steps\n",
        "\n",
        "*   The current recommendation system relies solely on cluster membership. Future improvements could incorporate similarity measures within a cluster (e.g., cosine similarity on scaled features) for more nuanced recommendations.\n",
        "*   Further analysis of the clusters, perhaps including visualization techniques like PCA or t-SNE, could provide a clearer understanding of the feature space and the separation of the clusters.\n"
      ]
    },
    {
      "cell_type": "markdown",
      "metadata": {
        "id": "c5a6dc90"
      },
      "source": [
        "## Determine optimal number of clusters\n",
        "\n",
        "### Subtask:\n",
        "Use methods like the Elbow method or Silhouette score to find the optimal number of clusters for the data."
      ]
    },
    {
      "cell_type": "markdown",
      "metadata": {
        "id": "bbc66488"
      },
      "source": [
        "**Reasoning**:\n",
        "Import the necessary libraries for calculating the Silhouette score and plotting, then iterate through a range of possible cluster numbers, fit K-Means, calculate the Silhouette score, store the scores, and finally plot the results to identify the optimal number of clusters."
      ]
    },
    {
      "cell_type": "code",
      "execution_count": 33,
      "metadata": {
        "colab": {
          "base_uri": "https://localhost:8080/",
          "height": 581
        },
        "id": "9f01fb09",
        "outputId": "6f417e31-57d7-47ff-cd0c-1851f42093e7"
      },
      "outputs": [
        {
          "data": {
            "image/png": "[encoded data removed]",
            "text/plain": [
              "<Figure size 1000x600 with 1 Axes>"
            ]
          },
          "metadata": {},
          "output_type": "display_data"
        },
        {
          "name": "stdout",
          "output_type": "stream",
          "text": [
            "The optimal number of clusters based on the Silhouette score is: 2\n"
          ]
        }
      ],
      "source": [
        "from sklearn.cluster import KMeans\n",
        "from sklearn.metrics import silhouette_score\n",
        "import matplotlib.pyplot as plt\n",
        "\n",
        "silhouette_scores = []\n",
        "range_n_clusters = range(2, 11)\n",
        "\n",
        "for n_clusters in range_n_clusters:\n",
        "    kmeans = KMeans(n_clusters=n_clusters, random_state=42, n_init=10)\n",
        "    kmeans.fit(scaled_df)\n",
        "    score = silhouette_score(scaled_df, kmeans.labels_)\n",
        "    silhouette_scores.append(score)\n",
        "\n",
        "plt.figure(figsize=(10, 6))\n",
        "plt.plot(range_n_clusters, silhouette_scores, marker='o')\n",
        "plt.xlabel(\"Number of Clusters\")\n",
        "plt.ylabel(\"Silhouette Score\")\n",
        "plt.title(\"Silhouette Scores for Different Numbers of Clusters\")\n",
        "plt.xticks(range_n_clusters)\n",
        "plt.grid(True)\n",
        "plt.show()\n",
        "\n",
        "optimal_n_clusters = range_n_clusters[silhouette_scores.index(max(silhouette_scores))]\n",
        "print(f\"The optimal number of clusters based on the Silhouette score is: {optimal_n_clusters}\")"
      ]
    },
    {
      "cell_type": "code",
      "execution_count": 34,
      "metadata": {},
      "outputs": [],
      "source": [
        "import pickle\n",
        "\n",
        "# Save KMeans model + scaler (dictionary is best practice)\n",
        "with open(\"model_data.pkl\", \"wb\") as f:\n",
        "    pickle.dump({\"model\": kmeans, \"scaler\": scaler}, f)\n"
      ]
    },
    {
      "cell_type": "code",
      "execution_count": null,
      "metadata": {},
      "outputs": [],
      "source": []
    }
  ],
  "metadata": {
    "colab": {
      "provenance": []
    },
    "kernelspec": {
      "display_name": "Python 3",
      "name": "python3"
    },
    "language_info": {
      "codemirror_mode": {
        "name": "ipython",
        "version": 3
      },
      "file_extension": ".py",
      "mimetype": "text/x-python",
      "name": "python",
      "nbconvert_exporter": "python",
      "pygments_lexer": "ipython3",
      "version": "3.12.7"
    }
  },
  "nbformat": 4,
  "nbformat_minor": 0
}
